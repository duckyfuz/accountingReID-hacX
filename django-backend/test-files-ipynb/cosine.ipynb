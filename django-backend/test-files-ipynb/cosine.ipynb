{
 "cells": [
  {
   "cell_type": "code",
   "execution_count": 10,
   "metadata": {},
   "outputs": [],
   "source": [
    "import numpy as np \n",
    "from PIL import Image\n",
    "from tensorflow.keras.preprocessing import image\n",
    "\n",
    "import matplotlib.pyplot as plt\n",
    "import matplotlib.image as mpimg\n",
    "\n",
    "from keras.applications.vgg16 import VGG16\n",
    "from sklearn.metrics.pairwise import cosine_similarity"
   ]
  },
  {
   "cell_type": "code",
   "execution_count": 11,
   "metadata": {},
   "outputs": [],
   "source": [
    "vgg16 = VGG16(weights='imagenet', include_top=False, \n",
    "              pooling='max', input_shape=(224, 224, 3))\n",
    "\n",
    "# print the summary of the model's architecture.\n",
    "# vgg16.summary()"
   ]
  },
  {
   "cell_type": "code",
   "execution_count": 12,
   "metadata": {},
   "outputs": [],
   "source": [
    "for model_layer in vgg16.layers:\n",
    "  model_layer.trainable = False"
   ]
  },
  {
   "cell_type": "code",
   "execution_count": 13,
   "metadata": {},
   "outputs": [],
   "source": [
    "def load_image(image_path):\n",
    "    \"\"\"\n",
    "        -----------------------------------------------------\n",
    "        Process the image provided. \n",
    "        - Resize the image \n",
    "        -----------------------------------------------------\n",
    "        return resized image\n",
    "    \"\"\"\n",
    "\n",
    "    input_image = Image.open(image_path)\n",
    "    resized_image = input_image.resize((224, 224))\n",
    "\n",
    "    return resized_image"
   ]
  },
  {
   "cell_type": "code",
   "execution_count": 14,
   "metadata": {},
   "outputs": [],
   "source": [
    "def get_image_embeddings(object_image : image):\n",
    "    \n",
    "    \"\"\"\n",
    "      -----------------------------------------------------\n",
    "      convert image into 3d array and add additional dimension for model input\n",
    "      -----------------------------------------------------\n",
    "      return embeddings of the given image\n",
    "    \"\"\"\n",
    "\n",
    "    image_array = np.expand_dims(image.img_to_array(object_image), axis = 0)\n",
    "    image_embedding = vgg16.predict(image_array)\n",
    "\n",
    "    return image_embedding"
   ]
  },
  {
   "cell_type": "code",
   "execution_count": 15,
   "metadata": {},
   "outputs": [],
   "source": [
    "def get_similarity_score(first_image : str, second_image : str):\n",
    "    \"\"\"\n",
    "        -----------------------------------------------------\n",
    "        Takes image array and computes its embedding using VGG16 model.\n",
    "        -----------------------------------------------------\n",
    "        return embedding of the image\n",
    "        \n",
    "    \"\"\"\n",
    "\n",
    "    first_image = load_image(first_image)\n",
    "    second_image = load_image(second_image)\n",
    "\n",
    "    first_image_vector = get_image_embeddings(first_image)\n",
    "    second_image_vector = get_image_embeddings(second_image)\n",
    "    \n",
    "    similarity_score = cosine_similarity(first_image_vector, second_image_vector).reshape(1,)\n",
    "\n",
    "    return similarity_score"
   ]
  },
  {
   "cell_type": "code",
   "execution_count": 16,
   "metadata": {},
   "outputs": [],
   "source": [
    "def show_image(image_path):\n",
    "  image = mpimg.imread(image_path)\n",
    "  imgplot = plt.imshow(image)\n",
    "  plt.show()"
   ]
  },
  {
   "cell_type": "code",
   "execution_count": 49,
   "metadata": {},
   "outputs": [
    {
     "name": "stdout",
     "output_type": "stream",
     "text": [
      "1/1 [==============================] - 0s 102ms/step\n",
      "1/1 [==============================] - 0s 109ms/step\n",
      "1/1 [==============================] - 0s 96ms/step\n",
      "1/1 [==============================] - 0s 100ms/step\n",
      "[('frame1.jpg', 0.81160486)]\n"
     ]
    }
   ],
   "source": [
    "# similarity_score = get_similarity_score(wrench1, wrench2)\n",
    "# similarity_score\n",
    "\n",
    "import os\n",
    "\n",
    "failed = []\n",
    "\n",
    "def process_images(input_folder, post_folder):\n",
    "\n",
    "    for filename in os.listdir(input_folder):\n",
    "        if filename.endswith('.jpg'): \n",
    "            pre_image = os.path.join(input_folder, filename)\n",
    "            post_image = os.path.join(post_folder, filename)\n",
    "            similarity_score = get_similarity_score(pre_image, post_image)\n",
    "            # print(f\"{filename}: {similarity_score}\")\n",
    "\n",
    "            if similarity_score < 0.9:\n",
    "                failed.append((filename, similarity_score[0]))\n",
    "                # show_image(pre_image), show_image(post_image)\n",
    "\n",
    "process_images('./ref-pics/pre-pics/', './ref-pics/post-pics/')\n",
    "print(sorted(failed, key=lambda x: (-x[1], x[0])))\n"
   ]
  }
 ],
 "metadata": {
  "kernelspec": {
   "display_name": "Python 3",
   "language": "python",
   "name": "python3"
  },
  "language_info": {
   "codemirror_mode": {
    "name": "ipython",
    "version": 3
   },
   "file_extension": ".py",
   "mimetype": "text/x-python",
   "name": "python",
   "nbconvert_exporter": "python",
   "pygments_lexer": "ipython3",
   "version": "3.11.5"
  },
  "orig_nbformat": 4
 },
 "nbformat": 4,
 "nbformat_minor": 2
}
