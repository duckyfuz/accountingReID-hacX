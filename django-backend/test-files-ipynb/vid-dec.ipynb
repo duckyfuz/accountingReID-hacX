{
 "cells": [
  {
   "cell_type": "code",
   "execution_count": 43,
   "metadata": {},
   "outputs": [],
   "source": [
    "from ultralytics import YOLO\n",
    "model = YOLO(\"yolov8m.pt\")"
   ]
  },
  {
   "cell_type": "code",
   "execution_count": 54,
   "metadata": {},
   "outputs": [],
   "source": [
    "import cv2\n",
    "\n",
    "video_path = 'ref-vids/IMG_5729.mov'\n",
    "cap = cv2.VideoCapture(video_path) \n",
    "\n",
    "i = 0\n",
    "while cap.isOpened():\n",
    "    ret, frame = cap.read()\n",
    "    if ret == False:\n",
    "        break\n",
    "    if i % 30 == 0:\n",
    "        cv2.imwrite(f'ref-vids/frames/frame{i//30}.png', frame)\n",
    "    i += 1\n",
    "\n",
    "cap.release()"
   ]
  },
  {
   "cell_type": "code",
   "execution_count": 78,
   "metadata": {},
   "outputs": [
    {
     "name": "stderr",
     "output_type": "stream",
     "text": [
      "\n",
      "image 1/1 /Users/kenf/Developer/projects/accountingReID-hacx/django-backend/test-files-ipynb/ref-vids/frames/frame5.png: 384x640 2 forks, 168.9ms\n",
      "Speed: 2.0ms preprocess, 168.9ms inference, 1.0ms postprocess per image at shape (1, 3, 384, 640)\n",
      "\n",
      "image 1/1 /Users/kenf/Developer/projects/accountingReID-hacx/django-backend/test-files-ipynb/ref-vids/frames/frame4.png: 384x640 1 fork, 135.7ms\n",
      "Speed: 1.7ms preprocess, 135.7ms inference, 0.5ms postprocess per image at shape (1, 3, 384, 640)\n",
      "\n",
      "image 1/1 /Users/kenf/Developer/projects/accountingReID-hacx/django-backend/test-files-ipynb/ref-vids/frames/frame6.png: 384x640 1 fork, 1 toothbrush, 149.6ms\n",
      "Speed: 1.6ms preprocess, 149.6ms inference, 0.7ms postprocess per image at shape (1, 3, 384, 640)\n",
      "\n",
      "image 1/1 /Users/kenf/Developer/projects/accountingReID-hacx/django-backend/test-files-ipynb/ref-vids/frames/frame7.png: 384x640 1 fork, 136.5ms\n",
      "Speed: 1.8ms preprocess, 136.5ms inference, 0.6ms postprocess per image at shape (1, 3, 384, 640)\n",
      "\n",
      "image 1/1 /Users/kenf/Developer/projects/accountingReID-hacx/django-backend/test-files-ipynb/ref-vids/frames/frame3.png: 384x640 1 refrigerator, 132.7ms\n",
      "Speed: 1.6ms preprocess, 132.7ms inference, 0.6ms postprocess per image at shape (1, 3, 384, 640)\n",
      "\n",
      "image 1/1 /Users/kenf/Developer/projects/accountingReID-hacx/django-backend/test-files-ipynb/ref-vids/frames/frame2.png: 384x640 1 refrigerator, 132.3ms\n",
      "Speed: 1.6ms preprocess, 132.3ms inference, 0.9ms postprocess per image at shape (1, 3, 384, 640)\n",
      "\n",
      "image 1/1 /Users/kenf/Developer/projects/accountingReID-hacx/django-backend/test-files-ipynb/ref-vids/frames/frame0.png: 384x640 1 refrigerator, 138.0ms\n",
      "Speed: 1.6ms preprocess, 138.0ms inference, 0.6ms postprocess per image at shape (1, 3, 384, 640)\n",
      "\n",
      "image 1/1 /Users/kenf/Developer/projects/accountingReID-hacx/django-backend/test-files-ipynb/ref-vids/frames/frame1.png: 384x640 1 refrigerator, 132.6ms\n",
      "Speed: 1.8ms preprocess, 132.6ms inference, 0.7ms postprocess per image at shape (1, 3, 384, 640)\n"
     ]
    }
   ],
   "source": [
    "import os\n",
    "\n",
    "def process_frames(folder, output_folder):\n",
    "    frame_files = os.listdir(folder)\n",
    "    for file in frame_files:\n",
    "        if file.endswith('.png'):\n",
    "            image = cv2.imread(os.path.join(folder, file))\n",
    "            results = model.predict(f\"ref-vids/frames/{file}\")\n",
    "            result = results[0]\n",
    "\n",
    "\n",
    "            save_image = False\n",
    "\n",
    "            for box in result.boxes:\n",
    "            \n",
    "                if result.names[box.cls[0].item()] == 'fork':\n",
    "                    save_image = True\n",
    "                break\n",
    "                \n",
    "            if save_image:\n",
    "\n",
    "                for box in result.boxes:\n",
    "                    x1, y1, x2, y2 = box.xyxy[0].tolist()   \n",
    "                    x1, y1, x2, y2 = int(x1), int(y1), int(x2), int(y2)\n",
    "                    cls = result.names[box.cls[0].item()]\n",
    "                    # Draw bounding box \n",
    "                    cv2.rectangle(image, (x1, y1), (x2, y2), (0, 0, 255), 2) \n",
    "                    # Put class label text\n",
    "                    cv2.putText(image, cls, (x1, y1), cv2.FONT_HERSHEY_SIMPLEX, 1, (0,0,255), 2)\n",
    "                # Save output image  \n",
    "                output_path = os.path.join(output_folder, file)\n",
    "                cv2.imwrite(output_path, image)            \n",
    "\n",
    "process_frames('ref-vids/frames', 'ref-vids/annotated-frames')"
   ]
  },
  {
   "cell_type": "code",
   "execution_count": 61,
   "metadata": {},
   "outputs": [
    {
     "name": "stderr",
     "output_type": "stream",
     "text": [
      "\n",
      "image 1/1 /Users/kenf/Developer/projects/accountingReID-hacx/django-backend/test-files-ipynb/ref-vids/frames/frame4.png: 384x640 1 fork, 135.1ms\n",
      "Speed: 2.0ms preprocess, 135.1ms inference, 0.6ms postprocess per image at shape (1, 3, 384, 640)\n"
     ]
    }
   ],
   "source": [
    "results = model.predict(\"ref-vids/frames/frame4.png\")\n",
    "result = results[0]\n",
    "len(result.boxes)\n",
    "box = result.boxes[0]\n"
   ]
  },
  {
   "cell_type": "code",
   "execution_count": 46,
   "metadata": {},
   "outputs": [
    {
     "name": "stdout",
     "output_type": "stream",
     "text": [
      "Object type: 42.0\n",
      "Coordinates: [979.8341674804688, 659.88134765625, 1147.296875, 810.1477661132812]\n",
      "Probability: 0.8669666647911072\n"
     ]
    }
   ],
   "source": [
    "cords = box.xyxy[0].tolist()\n",
    "class_id = box.cls[0].item()\n",
    "conf = box.conf[0].item()\n",
    "print(\"Object type:\", class_id)\n",
    "print(\"Coordinates:\", cords)\n",
    "print(\"Probability:\", conf)"
   ]
  },
  {
   "cell_type": "code",
   "execution_count": 48,
   "metadata": {},
   "outputs": [
    {
     "name": "stdout",
     "output_type": "stream",
     "text": [
      "Object type: fork\n",
      "Coordinates: [980, 660, 1147, 810]\n",
      "Probability: 0.87\n"
     ]
    }
   ],
   "source": [
    "cords = box.xyxy[0].tolist()\n",
    "cords = [round(x) for x in cords]\n",
    "class_id = result.names[box.cls[0].item()]\n",
    "conf = round(box.conf[0].item(), 2)\n",
    "print(\"Object type:\", class_id)\n",
    "print(\"Coordinates:\", cords)\n",
    "print(\"Probability:\", conf)"
   ]
  },
  {
   "cell_type": "code",
   "execution_count": 49,
   "metadata": {},
   "outputs": [
    {
     "name": "stdout",
     "output_type": "stream",
     "text": [
      "Object type: fork\n",
      "Coordinates: [980, 660, 1147, 810]\n",
      "Probability: 0.87\n",
      "---\n"
     ]
    }
   ],
   "source": [
    "for box in result.boxes:\n",
    "  class_id = result.names[box.cls[0].item()]\n",
    "  cords = box.xyxy[0].tolist()\n",
    "  cords = [round(x) for x in cords]\n",
    "  conf = round(box.conf[0].item(), 2)\n",
    "  print(\"Object type:\", class_id)\n",
    "  print(\"Coordinates:\", cords)\n",
    "  print(\"Probability:\", conf)\n",
    "  print(\"---\")"
   ]
  }
 ],
 "metadata": {
  "kernelspec": {
   "display_name": ".venv",
   "language": "python",
   "name": "python3"
  },
  "language_info": {
   "codemirror_mode": {
    "name": "ipython",
    "version": 3
   },
   "file_extension": ".py",
   "mimetype": "text/x-python",
   "name": "python",
   "nbconvert_exporter": "python",
   "pygments_lexer": "ipython3",
   "version": "3.11.5"
  }
 },
 "nbformat": 4,
 "nbformat_minor": 2
}
