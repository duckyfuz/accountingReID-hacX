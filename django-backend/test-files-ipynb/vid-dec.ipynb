{
 "cells": [
  {
   "cell_type": "code",
   "execution_count": 52,
   "metadata": {},
   "outputs": [],
   "source": [
    "from ultralytics import YOLO\n",
    "model = YOLO(\"yolov8m.pt\")"
   ]
  },
  {
   "cell_type": "code",
   "execution_count": 53,
   "metadata": {},
   "outputs": [],
   "source": [
    "import cv2\n",
    "\n",
    "video_path = 'ref-vids/IMG_5760.mov'\n",
    "cap = cv2.VideoCapture(video_path) \n",
    "\n",
    "i = 0\n",
    "while cap.isOpened():\n",
    "    ret, frame = cap.read()\n",
    "    if ret == False:\n",
    "        break\n",
    "    if i % 10 == 0:\n",
    "        cv2.imwrite(f'ref-vids/frames/frame{i//30}.png', frame)\n",
    "    i += 1\n",
    "\n",
    "cap.release()"
   ]
  },
  {
   "cell_type": "code",
   "execution_count": 54,
   "metadata": {},
   "outputs": [
    {
     "name": "stderr",
     "output_type": "stream",
     "text": [
      "\n",
      "image 1/1 /Users/kenf/Developer/projects/accountingReID-hacx/django-backend/test-files-ipynb/ref-vids/frames/frame5.png: 640x384 1 scissors, 127.8ms\n",
      "Speed: 1.6ms preprocess, 127.8ms inference, 0.9ms postprocess per image at shape (1, 3, 640, 384)\n",
      "\n"
     ]
    },
    {
     "name": "stdout",
     "output_type": "stream",
     "text": [
      "scissors\n"
     ]
    },
    {
     "name": "stderr",
     "output_type": "stream",
     "text": [
      "image 1/1 /Users/kenf/Developer/projects/accountingReID-hacx/django-backend/test-files-ipynb/ref-vids/frames/frame4.png: 640x384 1 chair, 116.6ms\n",
      "Speed: 1.4ms preprocess, 116.6ms inference, 0.5ms postprocess per image at shape (1, 3, 640, 384)\n",
      "\n",
      "image 1/1 /Users/kenf/Developer/projects/accountingReID-hacx/django-backend/test-files-ipynb/ref-vids/frames/frame6.png: 640x384 (no detections), 114.8ms\n",
      "Speed: 1.2ms preprocess, 114.8ms inference, 0.3ms postprocess per image at shape (1, 3, 640, 384)\n"
     ]
    },
    {
     "name": "stdout",
     "output_type": "stream",
     "text": [
      "chair\n"
     ]
    },
    {
     "name": "stderr",
     "output_type": "stream",
     "text": [
      "\n",
      "image 1/1 /Users/kenf/Developer/projects/accountingReID-hacx/django-backend/test-files-ipynb/ref-vids/frames/frame3.png: 640x384 1 knife, 122.8ms\n",
      "Speed: 1.5ms preprocess, 122.8ms inference, 0.9ms postprocess per image at shape (1, 3, 640, 384)\n",
      "\n"
     ]
    },
    {
     "name": "stdout",
     "output_type": "stream",
     "text": [
      "knife\n"
     ]
    },
    {
     "name": "stderr",
     "output_type": "stream",
     "text": [
      "image 1/1 /Users/kenf/Developer/projects/accountingReID-hacx/django-backend/test-files-ipynb/ref-vids/frames/frame2.png: 640x384 1 bed, 117.4ms\n",
      "Speed: 1.2ms preprocess, 117.4ms inference, 0.6ms postprocess per image at shape (1, 3, 640, 384)\n",
      "\n"
     ]
    },
    {
     "name": "stdout",
     "output_type": "stream",
     "text": [
      "bed\n"
     ]
    },
    {
     "name": "stderr",
     "output_type": "stream",
     "text": [
      "image 1/1 /Users/kenf/Developer/projects/accountingReID-hacx/django-backend/test-files-ipynb/ref-vids/frames/frame0.png: 640x384 1 chair, 124.8ms\n",
      "Speed: 1.5ms preprocess, 124.8ms inference, 0.5ms postprocess per image at shape (1, 3, 640, 384)\n",
      "\n",
      "image 1/1 /Users/kenf/Developer/projects/accountingReID-hacx/django-backend/test-files-ipynb/ref-vids/frames/frame1.png: 640x384 1 fork, 1 bed, 1 refrigerator, 119.7ms\n",
      "Speed: 1.4ms preprocess, 119.7ms inference, 0.5ms postprocess per image at shape (1, 3, 640, 384)\n"
     ]
    },
    {
     "name": "stdout",
     "output_type": "stream",
     "text": [
      "chair\n",
      "fork\n"
     ]
    }
   ],
   "source": [
    "import os\n",
    "\n",
    "def process_frames(folder, output_folder):\n",
    "    frame_files = os.listdir(folder)\n",
    "    for file in frame_files:\n",
    "        if file.endswith('.png'):\n",
    "            image = cv2.imread(os.path.join(folder, file))\n",
    "            results = model.predict(f\"ref-vids/frames/{file}\")\n",
    "            result = results[0]\n",
    "\n",
    "            save_image = False\n",
    "            for box in result.boxes:\n",
    "                print(result.names[box.cls[0].item()])\n",
    "                if result.names[box.cls[0].item()] in ['fork', 'scissors', 'knife', 'cell phone', 'toothbrush']:\n",
    "                    save_image = True\n",
    "                break\n",
    "                \n",
    "            if save_image:\n",
    "                for box in result.boxes:\n",
    "                    x1, y1, x2, y2 = box.xyxy[0].tolist()\n",
    "                    x1, y1, x2, y2 = int(x1), int(y1), int(x2), int(y2)\n",
    "                    cls = result.names[box.cls[0].item()]\n",
    "                    # Draw bounding box\n",
    "                    cv2.rectangle(image, (x1, y1), (x2, y2), (0, 0, 255), 2)\n",
    "                    # Put class label text\n",
    "                    cv2.putText(image, cls, (x1, y1), cv2.FONT_HERSHEY_SIMPLEX, 1, (0,0,255), 2)\n",
    "                # Save output image  \n",
    "                output_path = os.path.join(output_folder, file)\n",
    "                cv2.imwrite(output_path, image)            \n",
    "\n",
    "process_frames('ref-vids/frames', 'ref-vids/annotated-frames')"
   ]
  }
 ],
 "metadata": {
  "kernelspec": {
   "display_name": ".venv",
   "language": "python",
   "name": "python3"
  },
  "language_info": {
   "codemirror_mode": {
    "name": "ipython",
    "version": 3
   },
   "file_extension": ".py",
   "mimetype": "text/x-python",
   "name": "python",
   "nbconvert_exporter": "python",
   "pygments_lexer": "ipython3",
   "version": "3.11.5"
  }
 },
 "nbformat": 4,
 "nbformat_minor": 2
}
