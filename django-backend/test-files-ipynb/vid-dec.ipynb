{
 "cells": [
  {
   "cell_type": "code",
   "execution_count": 88,
   "metadata": {},
   "outputs": [],
   "source": [
    "from ultralytics import YOLO\n",
    "model = YOLO(\"yolov8m.pt\")"
   ]
  },
  {
   "cell_type": "code",
   "execution_count": 89,
   "metadata": {},
   "outputs": [],
   "source": [
    "import cv2\n",
    "\n",
    "video_path = 'ref-vids/IMG_5729.mov'\n",
    "cap = cv2.VideoCapture(video_path) \n",
    "\n",
    "i = 0\n",
    "while cap.isOpened():\n",
    "    ret, frame = cap.read()\n",
    "    if ret == False:\n",
    "        break\n",
    "    if i % 30 == 0:\n",
    "        cv2.imwrite(f'ref-vids/frames/frame{i//30}.png', frame)\n",
    "    i += 1\n",
    "\n",
    "cap.release()"
   ]
  },
  {
   "cell_type": "code",
   "execution_count": 90,
   "metadata": {},
   "outputs": [
    {
     "name": "stderr",
     "output_type": "stream",
     "text": [
      "\n",
      "image 1/1 /Users/kenf/Developer/projects/accountingReID-hacx/django-backend/test-files-ipynb/ref-vids/frames/frame5.png: 384x640 2 forks, 110.8ms\n",
      "Speed: 1.3ms preprocess, 110.8ms inference, 0.6ms postprocess per image at shape (1, 3, 384, 640)\n",
      "\n",
      "image 1/1 /Users/kenf/Developer/projects/accountingReID-hacx/django-backend/test-files-ipynb/ref-vids/frames/frame4.png: 384x640 1 fork, 119.6ms\n",
      "Speed: 1.3ms preprocess, 119.6ms inference, 0.5ms postprocess per image at shape (1, 3, 384, 640)\n",
      "\n",
      "image 1/1 /Users/kenf/Developer/projects/accountingReID-hacx/django-backend/test-files-ipynb/ref-vids/frames/frame6.png: 384x640 1 fork, 1 toothbrush, 112.9ms\n",
      "Speed: 1.3ms preprocess, 112.9ms inference, 0.6ms postprocess per image at shape (1, 3, 384, 640)\n",
      "\n",
      "image 1/1 /Users/kenf/Developer/projects/accountingReID-hacx/django-backend/test-files-ipynb/ref-vids/frames/frame7.png: 384x640 1 fork, 117.2ms\n",
      "Speed: 1.4ms preprocess, 117.2ms inference, 0.5ms postprocess per image at shape (1, 3, 384, 640)\n",
      "\n",
      "image 1/1 /Users/kenf/Developer/projects/accountingReID-hacx/django-backend/test-files-ipynb/ref-vids/frames/frame3.png: 384x640 1 refrigerator, 114.6ms\n",
      "Speed: 1.9ms preprocess, 114.6ms inference, 0.5ms postprocess per image at shape (1, 3, 384, 640)\n",
      "\n",
      "image 1/1 /Users/kenf/Developer/projects/accountingReID-hacx/django-backend/test-files-ipynb/ref-vids/frames/frame2.png: 384x640 1 refrigerator, 110.3ms\n",
      "Speed: 1.2ms preprocess, 110.3ms inference, 0.5ms postprocess per image at shape (1, 3, 384, 640)\n",
      "\n",
      "image 1/1 /Users/kenf/Developer/projects/accountingReID-hacx/django-backend/test-files-ipynb/ref-vids/frames/frame0.png: 384x640 1 refrigerator, 115.2ms\n",
      "Speed: 1.2ms preprocess, 115.2ms inference, 0.4ms postprocess per image at shape (1, 3, 384, 640)\n",
      "\n",
      "image 1/1 /Users/kenf/Developer/projects/accountingReID-hacx/django-backend/test-files-ipynb/ref-vids/frames/frame1.png: 384x640 1 refrigerator, 97.5ms\n",
      "Speed: 1.2ms preprocess, 97.5ms inference, 0.5ms postprocess per image at shape (1, 3, 384, 640)\n"
     ]
    }
   ],
   "source": [
    "import os\n",
    "\n",
    "def process_frames(folder, output_folder):\n",
    "    frame_files = os.listdir(folder)\n",
    "    for file in frame_files:\n",
    "        if file.endswith('.png'):\n",
    "            image = cv2.imread(os.path.join(folder, file))\n",
    "            results = model.predict(f\"ref-vids/frames/{file}\")\n",
    "            result = results[0]\n",
    "\n",
    "\n",
    "            save_image = False\n",
    "\n",
    "            for box in result.boxes:\n",
    "            \n",
    "                if result.names[box.cls[0].item()] in ['fork', 'scissors', 'knife', 'cell phone', 'toothbrush']:\n",
    "                    save_image = True\n",
    "                break\n",
    "                \n",
    "            if save_image:\n",
    "\n",
    "                for box in result.boxes:\n",
    "                    x1, y1, x2, y2 = box.xyxy[0].tolist()   \n",
    "                    x1, y1, x2, y2 = int(x1), int(y1), int(x2), int(y2)\n",
    "                    cls = result.names[box.cls[0].item()]\n",
    "                    # Draw bounding box \n",
    "                    cv2.rectangle(image, (x1, y1), (x2, y2), (0, 0, 255), 2) \n",
    "                    # Put class label text\n",
    "                    cv2.putText(image, cls, (x1, y1), cv2.FONT_HERSHEY_SIMPLEX, 1, (0,0,255), 2)\n",
    "                # Save output image  \n",
    "                output_path = os.path.join(output_folder, file)\n",
    "                cv2.imwrite(output_path, image)            \n",
    "\n",
    "process_frames('ref-vids/frames', 'ref-vids/annotated-frames')"
   ]
  }
 ],
 "metadata": {
  "kernelspec": {
   "display_name": ".venv",
   "language": "python",
   "name": "python3"
  },
  "language_info": {
   "codemirror_mode": {
    "name": "ipython",
    "version": 3
   },
   "file_extension": ".py",
   "mimetype": "text/x-python",
   "name": "python",
   "nbconvert_exporter": "python",
   "pygments_lexer": "ipython3",
   "version": "3.11.5"
  }
 },
 "nbformat": 4,
 "nbformat_minor": 2
}
